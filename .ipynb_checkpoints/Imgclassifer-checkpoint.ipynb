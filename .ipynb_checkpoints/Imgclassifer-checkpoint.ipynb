{
 "cells": [
  {
   "cell_type": "markdown",
   "id": "ff2f8846-1a0e-456d-ba55-3dd7ed59b92d",
   "metadata": {},
   "source": [
    "Image scrapping\n",
    "Libraries:\n",
    "- jmd_imagescraper (does not work)\n",
    "- duckimg-scraper\n",
    "- duckduckgo-scraper\n",
    "\n",
    "Will use the jmd-imagescraper to scrap for data since it seems to be the most popular library currently."
   ]
  },
  {
   "cell_type": "markdown",
   "id": "75fe635c-e716-47d7-a1e4-a36880755407",
   "metadata": {},
   "source": [
    "- We'll create three different datasets. rose, sunflower and daisies.\n"
   ]
  },
  {
   "cell_type": "code",
   "execution_count": null,
   "id": "755af670-0752-4940-8fb1-f96ba3332c19",
   "metadata": {},
   "outputs": [],
   "source": [
    "from jmd_imagescraper.imagecleaner import *\n",
    "display_image_cleaner(root)"
   ]
  },
  {
   "cell_type": "code",
   "execution_count": null,
   "id": "b79ef31e-59a8-44da-8b18-760384ac42ed",
   "metadata": {},
   "outputs": [],
   "source": []
  }
 ],
 "metadata": {
  "kernelspec": {
   "display_name": "Python 3 (ipykernel)",
   "language": "python",
   "name": "python3"
  },
  "language_info": {
   "codemirror_mode": {
    "name": "ipython",
    "version": 3
   },
   "file_extension": ".py",
   "mimetype": "text/x-python",
   "name": "python",
   "nbconvert_exporter": "python",
   "pygments_lexer": "ipython3",
   "version": "3.13.5"
  }
 },
 "nbformat": 4,
 "nbformat_minor": 5
}
