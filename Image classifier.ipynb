{
 "cells": [
  {
   "cell_type": "markdown",
   "id": "ff2f8846-1a0e-456d-ba55-3dd7ed59b92d",
   "metadata": {},
   "source": [
    "Image scrapping\n",
    "Libraries:\n",
    "- jmd_imagescraper\n",
    "- duckimg-scraper\n",
    "- duckduckgo-scraper\n",
    "\n",
    "Will use the jmd-imagescraper to scrap for data since it seems to be the most popular library currently."
   ]
  },
  {
   "cell_type": "code",
   "execution_count": null,
   "id": "92a1a0f2-954d-45d7-90a8-030542867ee3",
   "metadata": {},
   "outputs": [],
   "source": []
  }
 ],
 "metadata": {
  "kernelspec": {
   "display_name": "Python 3 (ipykernel)",
   "language": "python",
   "name": "python3"
  },
  "language_info": {
   "codemirror_mode": {
    "name": "ipython",
    "version": 3
   },
   "file_extension": ".py",
   "mimetype": "text/x-python",
   "name": "python",
   "nbconvert_exporter": "python",
   "pygments_lexer": "ipython3",
   "version": "3.13.5"
  }
 },
 "nbformat": 4,
 "nbformat_minor": 5
}
