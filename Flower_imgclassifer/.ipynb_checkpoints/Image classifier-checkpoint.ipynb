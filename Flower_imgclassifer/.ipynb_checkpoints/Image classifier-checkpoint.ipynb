{
 "cells": [
  {
   "cell_type": "markdown",
   "id": "ff2f8846-1a0e-456d-ba55-3dd7ed59b92d",
   "metadata": {},
   "source": [
    "Image scrapping\n",
    "Libraries:\n",
    "- jmd_imagescraper\n",
    "- duckimg-scraper\n",
    "- duckduckgo-scraper\n",
    "\n",
    "Will use the jmd-imagescraper to scrap for data since it seems to be the most popular library currently."
   ]
  },
  {
   "cell_type": "markdown",
   "id": "75fe635c-e716-47d7-a1e4-a36880755407",
   "metadata": {},
   "source": [
    "- We'll create three different datasets. rose, sunflower and daisies.\n"
   ]
  },
  {
   "cell_type": "code",
   "execution_count": null,
   "id": "13226ce4-02ad-45df-84a9-9d6e64a0e807",
   "metadata": {},
   "outputs": [],
   "source": []
  }
 ],
 "metadata": {
  "kernelspec": {
   "display_name": "Python 3 (ipykernel)",
   "language": "python",
   "name": "python3"
  },
  "language_info": {
   "codemirror_mode": {
    "name": "ipython",
    "version": 3
   },
   "file_extension": ".py",
   "mimetype": "text/x-python",
   "name": "python",
   "nbconvert_exporter": "python",
   "pygments_lexer": "ipython3",
   "version": "3.13.5"
  }
 },
 "nbformat": 4,
 "nbformat_minor": 5
}
